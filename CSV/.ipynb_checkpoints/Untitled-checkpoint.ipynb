{
 "cells": [
  {
   "cell_type": "code",
   "execution_count": null,
   "id": "b1509a2d",
   "metadata": {},
   "outputs": [],
   "source": [
    "pwd"
   ]
  },
  {
   "cell_type": "code",
   "execution_count": null,
   "id": "4aa1ed1c",
   "metadata": {},
   "outputs": [],
   "source": [
    "!pip install xlrd\n",
    "!pip install plotly"
   ]
  },
  {
   "cell_type": "code",
   "execution_count": null,
   "id": "1fbde644",
   "metadata": {},
   "outputs": [],
   "source": [
    "# import pandas for structuring the data\n",
    "import pandas as pd\n",
    "\n",
    "# import numpy for numerical analysis\n",
    "import numpy as np\n",
    "\n",
    "# import libs for diagrams inline with the text\n",
    "import matplotlib.pyplot as plt\n",
    "%matplotlib inline\n",
    "import seaborn as sns\n",
    "\n",
    "# other utilities\n",
    "from sklearn import datasets, preprocessing, metrics"
   ]
  },
  {
   "cell_type": "code",
   "execution_count": null,
   "id": "1c1bfc4b",
   "metadata": {},
   "outputs": [],
   "source": [
    "# read the CSV file from your data folder into a data frame\n",
    "df = pd.read_csv ('../data/TB_Burden_Country.csv', index_col=None, na_values=['NA'])"
   ]
  },
  {
   "cell_type": "code",
   "execution_count": null,
   "id": "d84d8c1c",
   "metadata": {},
   "outputs": [],
   "source": [
    "df.shape"
   ]
  },
  {
   "cell_type": "code",
   "execution_count": null,
   "id": "2d3c1a85",
   "metadata": {},
   "outputs": [],
   "source": [
    "df.columns"
   ]
  },
  {
   "cell_type": "code",
   "execution_count": null,
   "id": "3b46bd6d",
   "metadata": {},
   "outputs": [],
   "source": [
    "# see the first 10 records\n",
    "df_sorted = df.sort_values(by='Estimated prevalence of TB (all forms) per 100 000 population', ascending=False)\n",
    "df_sorted.head(10)"
   ]
  },
  {
   "cell_type": "code",
   "execution_count": null,
   "id": "24dc16a3",
   "metadata": {
    "scrolled": false
   },
   "outputs": [],
   "source": [
    "df.isnull().sum()"
   ]
  },
  {
   "cell_type": "code",
   "execution_count": null,
   "id": "5cdfaa16",
   "metadata": {},
   "outputs": [],
   "source": [
    "print(df.columns)"
   ]
  },
  {
   "cell_type": "code",
   "execution_count": null,
   "id": "dd925ab6",
   "metadata": {
    "scrolled": true
   },
   "outputs": [],
   "source": [
    "columns_to_drop = [\n",
    "\n",
    "    'Estimated mortality of TB cases who are HIV-positive, per 100 000 population, high bound',\n",
    "    'Estimated number of deaths from TB in people who are HIV-positive, low bound',\n",
    "    'Estimated number of deaths from TB in people who are HIV-positive, high bound',\n",
    "    'Estimated number of incident cases (all forms), low bound',\n",
    "    'Estimated number of incident cases (all forms), high bound',\n",
    "    'Estimated HIV in incident TB (percent), low bound',\n",
    "    'Estimated HIV in incident TB (percent), high bound',\n",
    "    'Estimated incidence of TB cases who are HIV-positive per 100 000 population, low bound',\n",
    "    'Estimated incidence of TB cases who are HIV-positive per 100 000 population, high bound',\n",
    "    'Estimated incidence of TB cases who are HIV-positive, low bound',\n",
    "    'Estimated incidence of TB cases who are HIV-positive, high bound',\n",
    "    'Case detection rate (all forms), percent, low bound',\n",
    "    'Case detection rate (all forms), percent, high bound',\n",
    "    'Estimated mortality of TB cases (all forms, excluding HIV), per 100 000 population, low bound',\n",
    "    'Estimated mortality of TB cases (all forms, excluding HIV), per 100 000 population, high bound',\n",
    "    'Estimated number of deaths from TB (all forms, excluding HIV), low bound',\n",
    "    'Estimated number of deaths from TB (all forms, excluding HIV), high bound',\n",
    "    'Estimated mortality of TB cases who are HIV-positive, per 100 000 population, low bound',\n",
    "    'Estimated incidence (all forms) per 100 000 population, low bound',\n",
    "    'Estimated incidence (all forms) per 100 000 population, high bound',\n",
    "    'Estimated prevalence of TB (all forms) per 100 000 population, low bound',\n",
    "    'Estimated prevalence of TB (all forms) per 100 000 population, high bound',\n",
    "    'Estimated prevalence of TB (all forms), low bound',\n",
    "    'Estimated prevalence of TB (all forms), high bound'\n",
    "]\n",
    "\n",
    "df = df.drop(columns_to_drop, axis=1)"
   ]
  },
  {
   "cell_type": "code",
   "execution_count": null,
   "id": "35b69153",
   "metadata": {
    "scrolled": false
   },
   "outputs": [],
   "source": [
    "df.count()"
   ]
  },
  {
   "cell_type": "code",
   "execution_count": null,
   "id": "67c2518d",
   "metadata": {},
   "outputs": [],
   "source": [
    "df['Year'] = pd.to_datetime(df['Year'], format='%Y')\n",
    "# Sort the DataFrame by 'Country or territory name' and 'Year', then keep the latest year for each country\n",
    "latest_data = df.sort_values(by=['Country or territory name', 'Year'], ignore_index=True).groupby('Country or territory name').tail(1)"
   ]
  },
  {
   "cell_type": "code",
   "execution_count": null,
   "id": "2459d07d",
   "metadata": {},
   "outputs": [],
   "source": [
    "# Display all countries sorted by Estimated prevalence of TB\n",
    "sorted_by_prevalence = latest_data.sort_values(by='Estimated prevalence of TB (all forms) per 100 000 population', ascending=False)"
   ]
  },
  {
   "cell_type": "code",
   "execution_count": null,
   "id": "930397a5",
   "metadata": {},
   "outputs": [],
   "source": [
    "# Top 50 lande af Estimeret forkomst af TB per 100.000 indbyggere\n",
    "sorted_by_prevalence.head(50)"
   ]
  },
  {
   "cell_type": "code",
   "execution_count": null,
   "id": "adb17c53",
   "metadata": {},
   "outputs": [],
   "source": [
    "# Group by region and aggregate data for each region\n",
    "aggregated_data_by_region = latest_data.groupby('Region').agg({\n",
    "    'Estimated total population number': 'sum',\n",
    "    'Estimated prevalence of TB (all forms) per 100 000 population': 'mean',  # You can use sum or other aggregation functions\n",
    "    'Estimated mortality of TB cases (all forms, excluding HIV) per 100 000 population':'mean',\n",
    "    'Estimated mortality of TB cases who are HIV-positive, per 100 000 population':'mean',\n",
    "    # Add other columns you want to aggregate\n",
    "}).reset_index()\n",
    "\n",
    "# Round the aggregated values to two decimals\n",
    "aggregated_data_by_region = aggregated_data_by_region.round(2)\n",
    "\n",
    "# Sort the DataFrame by 'Estimated prevalence of TB (all forms) per 100 000 population' in descending order\n",
    "sorted_by_prevalence_by_region = aggregated_data_by_region.sort_values(by='Estimated prevalence of TB (all forms) per 100 000 population', ascending=False)"
   ]
  },
  {
   "cell_type": "code",
   "execution_count": null,
   "id": "d8c1b326",
   "metadata": {
    "scrolled": true
   },
   "outputs": [],
   "source": [
    "# Top 6 regions af Estimeret forkomst af TB per 100.000 indbyggere\n",
    "sorted_by_prevalence_by_region.head(6)"
   ]
  },
  {
   "cell_type": "code",
   "execution_count": null,
   "id": "a9f76e2e",
   "metadata": {
    "scrolled": true
   },
   "outputs": [],
   "source": [
    "# Sample data (replace this with your actual data)\n",
    "regions = sorted_by_prevalence_by_region['Region']\n",
    "prevalence_data = sorted_by_prevalence_by_region['Estimated prevalence of TB (all forms) per 100 000 population']\n",
    "mortality_data = sorted_by_prevalence_by_region['Estimated mortality of TB cases (all forms, excluding HIV) per 100 000 population']\n",
    "hiv_mortality_data = sorted_by_prevalence_by_region['Estimated mortality of TB cases who are HIV-positive, per 100 000 population']\n",
    "\n",
    "# Bar chart settings\n",
    "bar_width = 0.4\n",
    "opacity = 0.7\n",
    "\n",
    "# Plotting the bars\n",
    "fig, ax = plt.subplots(figsize=(10, 6))\n",
    "\n",
    "# Transparent lightblue bar for Estimated prevalence of TB\n",
    "rects1 = ax.bar(regions, prevalence_data, bar_width, alpha=opacity, color='lightblue', label='Prevalence')\n",
    "\n",
    "# Calculate positions for the red and green bars (half the size of light blue bar)\n",
    "bar_positions = [np.arange(len(regions)) - bar_width / 4, np.arange(len(regions)) + bar_width / 4]\n",
    "\n",
    "# Red bar for Estimated mortality of TB cases (excluding HIV)\n",
    "rects2 = ax.bar(bar_positions[0], mortality_data, bar_width / 2, alpha=opacity, color='red', label='Mortality (TB)')\n",
    "\n",
    "# Green bar for Estimated mortality of TB cases with HIV\n",
    "rects3 = ax.bar(bar_positions[1], hiv_mortality_data, bar_width / 2, alpha=opacity, color='green', label='Mortality (HIV)')\n",
    "\n",
    "# Adding labels, title, and legend\n",
    "ax.set_xlabel('Region')\n",
    "ax.set_ylabel('Values per 100,000 population')\n",
    "ax.set_title('TB Metrics by Region')\n",
    "ax.legend()\n",
    "\n",
    "# Display the plot\n",
    "plt.show()"
   ]
  },
  {
   "cell_type": "code",
   "execution_count": null,
   "id": "adaace65",
   "metadata": {},
   "outputs": [],
   "source": []
  }
 ],
 "metadata": {
  "kernelspec": {
   "display_name": "Python 3 (ipykernel)",
   "language": "python",
   "name": "python3"
  },
  "language_info": {
   "codemirror_mode": {
    "name": "ipython",
    "version": 3
   },
   "file_extension": ".py",
   "mimetype": "text/x-python",
   "name": "python",
   "nbconvert_exporter": "python",
   "pygments_lexer": "ipython3",
   "version": "3.11.5"
  }
 },
 "nbformat": 4,
 "nbformat_minor": 5
}
